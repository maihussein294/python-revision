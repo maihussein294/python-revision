{
 "cells": [
  {
   "cell_type": "code",
   "execution_count": 48,
   "id": "96673461",
   "metadata": {},
   "outputs": [
    {
     "name": "stdout",
     "output_type": "stream",
     "text": [
      "15\n"
     ]
    }
   ],
   "source": [
    "#lambda : small anonymous function.\n",
    "#lambda function can take any number of arguments, but can only have one expression\n",
    "#Syntax: lambda arguments : expression\n",
    "x= lambda a : a+10\n",
    "print(x(5))"
   ]
  },
  {
   "cell_type": "code",
   "execution_count": 49,
   "id": "0acc46ea",
   "metadata": {},
   "outputs": [
    {
     "name": "stdout",
     "output_type": "stream",
     "text": [
      "20\n"
     ]
    }
   ],
   "source": [
    "x= lambda a,b : a*b\n",
    "print(x(4,5))"
   ]
  },
  {
   "cell_type": "code",
   "execution_count": 50,
   "id": "b1680702",
   "metadata": {},
   "outputs": [
    {
     "name": "stdout",
     "output_type": "stream",
     "text": [
      "22\n"
     ]
    }
   ],
   "source": [
    "x= lambda a,b,c : a*b+c\n",
    "print(x(4,5,2))"
   ]
  },
  {
   "cell_type": "code",
   "execution_count": 54,
   "id": "a31972dd",
   "metadata": {},
   "outputs": [
    {
     "data": {
      "text/plain": [
       "55"
      ]
     },
     "execution_count": 54,
     "metadata": {},
     "output_type": "execute_result"
    }
   ],
   "source": [
    "#The power of lambda is better shown when you use them as an anonymous function inside another function.\n",
    "#Say you have a function definition that takes one argument, and that argument will be multiplied with an unknown number:\n",
    "def myfunc(n):\n",
    "    return lambda a :a*n\n",
    "#Use that function definition to make a function that always doubles the number you send in\n",
    "doubler=myfunc(5)\n",
    "doubler(11)"
   ]
  },
  {
   "cell_type": "code",
   "execution_count": 57,
   "id": "d8edf598",
   "metadata": {},
   "outputs": [
    {
     "name": "stdout",
     "output_type": "stream",
     "text": [
      "33\n"
     ]
    }
   ],
   "source": [
    "#Or use the same function definition to make a function that always triples the number you send in\n",
    "def myfunc(n):\n",
    "    return lambda a : a * n\n",
    "\n",
    "mytripler = myfunc(3)\n",
    "\n",
    "print(mytripler(11))"
   ]
  },
  {
   "cell_type": "code",
   "execution_count": 58,
   "id": "4f8e7e38",
   "metadata": {},
   "outputs": [
    {
     "name": "stdout",
     "output_type": "stream",
     "text": [
      "22\n",
      "33\n"
     ]
    }
   ],
   "source": [
    "#Or use the same function definition to make both functions, in the same program\n",
    "def myfunc(n):\n",
    "    return lambda a : a * n\n",
    "\n",
    "mydoubler = myfunc(2)\n",
    "mytripler = myfunc(3)\n",
    "\n",
    "print(mydoubler(11))\n",
    "print(mytripler(11))"
   ]
  },
  {
   "cell_type": "code",
   "execution_count": 56,
   "id": "87335bd8",
   "metadata": {},
   "outputs": [
    {
     "data": {
      "text/plain": [
       "5"
      ]
     },
     "execution_count": 56,
     "metadata": {},
     "output_type": "execute_result"
    }
   ],
   "source": [
    "#oop\n",
    "#cerate class\n",
    "class my_class:\n",
    "    x=5\n",
    "#create object\n",
    "m=my_class()\n",
    "m.x       "
   ]
  },
  {
   "cell_type": "code",
   "execution_count": 3,
   "id": "903488d4",
   "metadata": {},
   "outputs": [
    {
     "name": "stdout",
     "output_type": "stream",
     "text": [
      "mai\n",
      "22\n"
     ]
    }
   ],
   "source": [
    "#OOP\n",
    "#__init__() which is always executed when the class is being initiated, assign values to object properties\n",
    "class member :\n",
    "    #self parameter is a reference to the current instance of the class, and is used to access variables that belong to the class.\n",
    "    def __init__(self,name,age):\n",
    "        self.name=name\n",
    "        self.age=age\n",
    "#object with params\n",
    "m1=member(\"mai\",22)\n",
    "print(m1.name)\n",
    "print(m1.age)        "
   ]
  },
  {
   "cell_type": "code",
   "execution_count": 6,
   "id": "ba8cffc1",
   "metadata": {},
   "outputs": [
    {
     "name": "stdout",
     "output_type": "stream",
     "text": [
      "<__main__.member object at 0x00000216140FBD90>\n"
     ]
    }
   ],
   "source": [
    "#without __str__ function\n",
    "class member :\n",
    "    def __init__(self,name,age):\n",
    "        self.name=name\n",
    "        self.age=age\n",
    "m1=member(\"mai\",22)\n",
    "print(m1)"
   ]
  },
  {
   "cell_type": "code",
   "execution_count": 9,
   "id": "22c82b5f",
   "metadata": {},
   "outputs": [
    {
     "name": "stdout",
     "output_type": "stream",
     "text": [
      "mai,(22)\n"
     ]
    }
   ],
   "source": [
    "# __str__() function controls what should be returned when the class object is represented as a string\n",
    "\n",
    "class member :\n",
    "    def __init__(self,name,age):\n",
    "        self.name=name\n",
    "        self.age=age\n",
    "    def __str__(self):\n",
    "        return f\"{self.name},({self.age})\"\n",
    "#object with params\n",
    "m1=member(\"mai\",22)\n",
    "print(m1)   "
   ]
  },
  {
   "cell_type": "code",
   "execution_count": 13,
   "id": "05907b2f",
   "metadata": {},
   "outputs": [
    {
     "name": "stdout",
     "output_type": "stream",
     "text": [
      "hello my name is maha\n"
     ]
    }
   ],
   "source": [
    "#object methods\n",
    "#Methods in objects are functions that belong to the object\n",
    "class member:\n",
    "    def __init__(self,name,age):\n",
    "        self.name=name\n",
    "        self.age=age\n",
    "    #Insert a function that prints a greeting\n",
    "    def func(self):\n",
    "        print(\"hello my name is \"+ self.name)\n",
    "\n",
    "m2=member(\"maha\",32)\n",
    "m2.func()"
   ]
  },
  {
   "cell_type": "code",
   "execution_count": 14,
   "id": "f1103013",
   "metadata": {},
   "outputs": [
    {
     "name": "stdout",
     "output_type": "stream",
     "text": [
      "hello my name is maha\n"
     ]
    }
   ],
   "source": [
    "#self params :It does not have to be named self , you can call it whatever you like, but it has to be the first parameter of any function in the class\n",
    "class member:\n",
    "    #use any word instead of self\n",
    "    def __init__(myObject,name,age):\n",
    "        myObject.name=name\n",
    "        myObject.age=age\n",
    "    #Insert a function that prints a greeting\n",
    "    def func(whatever):\n",
    "        print(\"hello my name is \"+ whatever.name)\n",
    "\n",
    "m2=member(\"maha\",32)\n",
    "m2.func()"
   ]
  },
  {
   "cell_type": "code",
   "execution_count": 15,
   "id": "c03443f1",
   "metadata": {},
   "outputs": [
    {
     "data": {
      "text/plain": [
       "25"
      ]
     },
     "execution_count": 15,
     "metadata": {},
     "output_type": "execute_result"
    }
   ],
   "source": [
    "#can modify properties on objects\n",
    "m2.age=25\n",
    "m2.age"
   ]
  },
  {
   "cell_type": "code",
   "execution_count": 16,
   "id": "a47ebc16",
   "metadata": {},
   "outputs": [],
   "source": [
    "#delete properties on objects by using the del\n",
    "del m2.age"
   ]
  },
  {
   "cell_type": "code",
   "execution_count": 17,
   "id": "1df2f423",
   "metadata": {},
   "outputs": [
    {
     "ename": "AttributeError",
     "evalue": "'member' object has no attribute 'age'",
     "output_type": "error",
     "traceback": [
      "\u001b[1;31m---------------------------------------------------------------------------\u001b[0m",
      "\u001b[1;31mAttributeError\u001b[0m                            Traceback (most recent call last)",
      "\u001b[1;32mC:\\Users\\LAPTOP~1\\AppData\\Local\\Temp/ipykernel_16548/2891796689.py\u001b[0m in \u001b[0;36m<module>\u001b[1;34m\u001b[0m\n\u001b[1;32m----> 1\u001b[1;33m \u001b[0mm2\u001b[0m\u001b[1;33m.\u001b[0m\u001b[0mage\u001b[0m\u001b[1;33m\u001b[0m\u001b[1;33m\u001b[0m\u001b[0m\n\u001b[0m",
      "\u001b[1;31mAttributeError\u001b[0m: 'member' object has no attribute 'age'"
     ]
    }
   ],
   "source": [
    "m2.age"
   ]
  },
  {
   "cell_type": "code",
   "execution_count": 18,
   "id": "17f48ed2",
   "metadata": {},
   "outputs": [],
   "source": [
    "#can delete objects by using the del\n",
    "del m2"
   ]
  },
  {
   "cell_type": "code",
   "execution_count": 19,
   "id": "da1d9c76",
   "metadata": {},
   "outputs": [],
   "source": [
    "# pass Statement\n",
    "#class definitions cannot be empty,\n",
    "#but if you for some reason have a class definition with no content, \n",
    "#put in the pass statement to avoid getting an error.\n",
    "class member2:\n",
    "    pass"
   ]
  },
  {
   "cell_type": "code",
   "execution_count": 61,
   "id": "980e7edb",
   "metadata": {},
   "outputs": [
    {
     "name": "stdout",
     "output_type": "stream",
     "text": [
      "mai hussein\n"
     ]
    }
   ],
   "source": [
    "#inheritance:  class that inherits all the methods and properties from another class.\n",
    "#Parent class: is the class being inherited from, also called (base class).\n",
    "#Child class: is the class that inherits from another class, also called (derived class).\n",
    "\n",
    "#parent class\n",
    "class person():\n",
    "    def __init__(self,fname,lname):\n",
    "        self.fname=fname\n",
    "        self.lname=lname\n",
    "    def printName(self):\n",
    "        print(self.fname,self.lname)\n",
    "\n",
    "p1=person(\"mai\",\"hussein\")\n",
    "p1.printName()"
   ]
  },
  {
   "cell_type": "code",
   "execution_count": 27,
   "id": "4e6e408c",
   "metadata": {},
   "outputs": [],
   "source": [
    "#child class : send the parent class as a parameter when creating the child class\n",
    "class child(person):\n",
    "    #Use the pass keyword when you do not want to add any other properties or methods to the class\n",
    "    pass"
   ]
  },
  {
   "cell_type": "code",
   "execution_count": 31,
   "id": "4239c65c",
   "metadata": {},
   "outputs": [
    {
     "name": "stdout",
     "output_type": "stream",
     "text": [
      "hamza ammar\n",
      "ammar\n"
     ]
    }
   ],
   "source": [
    "x=child(\"hamza\",\"ammar\")\n",
    "x.printName()\n",
    "print(x.lastname)"
   ]
  },
  {
   "cell_type": "code",
   "execution_count": 33,
   "id": "da7bdc74",
   "metadata": {},
   "outputs": [],
   "source": [
    "#We want to add the __init__() function to the child class (instead of the pass)\n",
    "# __init__() function is called automatically every time the class is being used to create a new object\n",
    "class child(person):\n",
    "    #def __init__(self,fname,lname):\n",
    "        \n",
    "#When you add the __init__() function, the child class will no longer inherit the parent's __init__() function.\n",
    "#Note: The child's __init__() function overrides the inheritance of the parent's __init__() function.#\n",
    "#to keep the inheritance of the parent's __init__() function, add a call to the parent's __init__() function\n",
    "     def __init__(self,fname,lname):\n",
    "        Person.__init__(self, fname, lname)\n",
    "        #Now we have successfully added the __init__() function, and kept the inheritance of the parent class,\n",
    "        #and we are ready to add functionality in the __init__() function."
   ]
  },
  {
   "cell_type": "code",
   "execution_count": 35,
   "id": "185da731",
   "metadata": {},
   "outputs": [],
   "source": [
    "#super() function that will make the child class inherit all the methods and properties from its parent\n",
    "class child(person):\n",
    "    def __init__(self,fname,lname):\n",
    "        super().__init__(fname,lname)\n",
    "        #By using the super() function, you do not have to use the name of the parent element\n",
    "        #it will automatically inherit the methods and properties from its parent.        "
   ]
  },
  {
   "cell_type": "code",
   "execution_count": 36,
   "id": "9432d2f3",
   "metadata": {},
   "outputs": [],
   "source": [
    "#Add Properties\n",
    "class child(person):\n",
    "    def __init__(self,fname,lname):\n",
    "        super().__init__(fname,lname)\n",
    "        self.graduationyear=2022\n",
    "        # the year 2019 should be a variable,\n",
    "        #and passed into the Student class when creating student objects. \n",
    "        #To do so, add another parameter in the __init__() function"
   ]
  },
  {
   "cell_type": "code",
   "execution_count": 62,
   "id": "d58b4232",
   "metadata": {},
   "outputs": [],
   "source": [
    "class child(person):\n",
    "    def __init__(self,fname,lname,year):\n",
    "        super().__init__(fname,lname)\n",
    "        self.graduationyear=year\n",
    "y=child(\"mai\",\"hussein\",2022)"
   ]
  },
  {
   "cell_type": "code",
   "execution_count": 64,
   "id": "c7855f5d",
   "metadata": {},
   "outputs": [
    {
     "name": "stdout",
     "output_type": "stream",
     "text": [
      "mai hussein\n",
      "welcome mai hussein to the class of 2022\n"
     ]
    }
   ],
   "source": [
    "#Add methods\n",
    "class child(person):\n",
    "    def __init__(self,fname,lname,year):\n",
    "        super().__init__(fname,lname)\n",
    "        self.graduationyear=year\n",
    "    def welcome(self):\n",
    "        print(\"welcome \"+ self.fname, self.lname, \"to the class of\", self.graduationyear)\n",
    "y=child(\"mai\",\"hussein\",2022)\n",
    "y.printName()\n",
    "y.welcome()"
   ]
  },
  {
   "cell_type": "code",
   "execution_count": null,
   "id": "2b12ef7c",
   "metadata": {},
   "outputs": [],
   "source": [
    "#Iterator vs Iterable\n",
    "#Lists, tuples, dictionaries, and sets are all iterable objects. They are iterable containers which you can get an iterator from.\n",
    "#All these objects have a iter() method which is used to get an iterator:"
   ]
  },
  {
   "cell_type": "code",
   "execution_count": 69,
   "id": "71a6149c",
   "metadata": {},
   "outputs": [
    {
     "name": "stdout",
     "output_type": "stream",
     "text": [
      "apple\n",
      "orange\n",
      "banana\n"
     ]
    }
   ],
   "source": [
    "#Python Iterators\n",
    "#An iterator is an object that contains a countable number of values.\n",
    "#An iterator is an object that can be iterated upon, meaning that you can traverse through all the values.\n",
    "#Technically, in Python, an iterator is an object which implements the iterator protocol,\n",
    "#which consist of the methods __iter__() and __next__().\n",
    "\n",
    "#Return an iterator from a tuple, and print each value\n",
    "mytuple=(\"apple\",\"orange\",\"banana\")\n",
    "myiter= iter(mytuple)\n",
    "\n",
    "print(next(myiter))\n",
    "print(next(myiter))\n",
    "print(next(myiter))\n"
   ]
  },
  {
   "cell_type": "code",
   "execution_count": 71,
   "id": "d5209941",
   "metadata": {},
   "outputs": [
    {
     "name": "stdout",
     "output_type": "stream",
     "text": [
      "b\n",
      "a\n",
      "n\n",
      "a\n",
      "n\n",
      "a\n"
     ]
    }
   ],
   "source": [
    "#Even strings are iterable objects, and can return an iterator\n",
    "#Strings are also iterable objects, containing a sequence of characters\n",
    "mystr = \"banana\"\n",
    "myit = iter(mystr)\n",
    "print(next(myit))\n",
    "print(next(myit))\n",
    "print(next(myit))\n",
    "print(next(myit))\n",
    "print(next(myit))\n",
    "print(next(myit))"
   ]
  },
  {
   "cell_type": "code",
   "execution_count": 72,
   "id": "ab8d0a9b",
   "metadata": {},
   "outputs": [
    {
     "name": "stdout",
     "output_type": "stream",
     "text": [
      "apple\n",
      "orange\n",
      "banana\n"
     ]
    }
   ],
   "source": [
    "#Looping Through an Iterator\n",
    "#We can also use a for loop to iterate through an iterable object\n",
    "mytuple=(\"apple\",\"orange\",\"banana\")\n",
    "for i in mytuple:\n",
    "    print(i)"
   ]
  },
  {
   "cell_type": "code",
   "execution_count": 73,
   "id": "afdfa023",
   "metadata": {},
   "outputs": [
    {
     "name": "stdout",
     "output_type": "stream",
     "text": [
      "b\n",
      "a\n",
      "n\n",
      "a\n",
      "n\n",
      "a\n"
     ]
    }
   ],
   "source": [
    "mystr = \"banana\"\n",
    "#for loop actually creates an iterator object and executes the next() method for each loop\n",
    "for x in mystr:\n",
    "    print(x)"
   ]
  },
  {
   "cell_type": "code",
   "execution_count": 78,
   "id": "2826b576",
   "metadata": {},
   "outputs": [
    {
     "name": "stdout",
     "output_type": "stream",
     "text": [
      "1\n",
      "2\n",
      "3\n",
      "4\n",
      "5\n"
     ]
    }
   ],
   "source": [
    "#Create an Iterator\n",
    "#To create an object/class as an iterator you have to implement the methods __iter__() and __next__() to your object.\n",
    "#The __iter__() method acts similar, you can do operations (initializing etc.)\n",
    "#              , but must always return the iterator object itself.\n",
    "#The __next__() method also allows you to do operations, and must return the next item in the sequence.\n",
    "\n",
    "#Create an iterator that returns numbers, starting with 1, and each sequence will increase by one (returning 1,2,3,4,5 etc.)\n",
    "\n",
    "class numbers():\n",
    "    def __iter__(self):\n",
    "        self.a=1\n",
    "        return self\n",
    "        \n",
    "    def __next__(self):\n",
    "        x=self.a\n",
    "        self.a+=1\n",
    "        return x\n",
    "\n",
    "myclass= numbers()\n",
    "myiter= iter(myclass)\n",
    "print(next(myiter))\n",
    "print(next(myiter)) \n",
    "print(next(myiter))\n",
    "print(next(myiter))\n",
    "print(next(myiter))"
   ]
  },
  {
   "cell_type": "code",
   "execution_count": 79,
   "id": "dcfea23d",
   "metadata": {},
   "outputs": [
    {
     "name": "stdout",
     "output_type": "stream",
     "text": [
      "1\n",
      "2\n",
      "3\n",
      "4\n",
      "5\n",
      "6\n",
      "7\n",
      "8\n",
      "9\n",
      "10\n",
      "11\n",
      "12\n",
      "13\n",
      "14\n",
      "15\n",
      "16\n",
      "17\n",
      "18\n",
      "19\n",
      "20\n"
     ]
    }
   ],
   "source": [
    "#StopIteration\n",
    "#The example above would continue forever if you had enough next() statements, or if it was used in a for loop.\n",
    "#To prevent the iteration to go on forever, we can use the StopIteration statement.\n",
    "#In the __next__() method,\n",
    "#              we can add a terminating condition to raise an error if the iteration is done a specified number of times:\n",
    "\n",
    "#Stop after 20 iterations\n",
    "class numbers():\n",
    "    def __iter__(self):\n",
    "        self.a=1\n",
    "        return self\n",
    "        \n",
    "    def __next__(self):\n",
    "        if self.a<=20:\n",
    "            x=self.a\n",
    "            self.a+=1\n",
    "            return x\n",
    "        else:\n",
    "            raise StopIteration\n",
    "myclass= numbers()\n",
    "myiter= iter(myclass)\n",
    "for x in myiter:\n",
    "    print(x)"
   ]
  },
  {
   "cell_type": "code",
   "execution_count": 81,
   "id": "4c980e6c",
   "metadata": {},
   "outputs": [
    {
     "name": "stdout",
     "output_type": "stream",
     "text": [
      "300\n"
     ]
    }
   ],
   "source": [
    "#scope: variable is only available from inside the region it is created.\n",
    "#Local Scope: variable created inside a function belongs to the local scope of that function, \n",
    "#                                       and can only be used inside that function.\n",
    "def myfunc():\n",
    "    x = 300\n",
    "    print(x)\n",
    "\n",
    "myfunc()"
   ]
  },
  {
   "cell_type": "code",
   "execution_count": 83,
   "id": "75748072",
   "metadata": {},
   "outputs": [
    {
     "name": "stdout",
     "output_type": "stream",
     "text": [
      "300\n"
     ]
    }
   ],
   "source": [
    "#Function Inside Function\n",
    "def myfunc():\n",
    "    x = 300\n",
    "    def myinnerfunc():\n",
    "        print(x)\n",
    "    myinnerfunc()\n",
    "myfunc()\n"
   ]
  },
  {
   "cell_type": "code",
   "execution_count": 84,
   "id": "de54aee1",
   "metadata": {},
   "outputs": [
    {
     "name": "stdout",
     "output_type": "stream",
     "text": [
      "300\n",
      "300\n"
     ]
    }
   ],
   "source": [
    "#Global Scope\n",
    "#A variable created in the main body of the Python code is a global variable and belongs to the global scope.\n",
    "#Global variables are available from within any scope, global and local.\n",
    "#A variable created outside of a function is global and can be used by anyone:\n",
    "x = 300\n",
    "def myfunc():\n",
    "    print(x)\n",
    "myfunc()\n",
    "print(x)"
   ]
  },
  {
   "cell_type": "code",
   "execution_count": 85,
   "id": "de212f7f",
   "metadata": {},
   "outputs": [
    {
     "name": "stdout",
     "output_type": "stream",
     "text": [
      "200\n",
      "300\n"
     ]
    }
   ],
   "source": [
    "#If you operate with the same variable name inside and outside of a function,\n",
    "#     Python will treat them as two separate variables, \n",
    "#     one available in the global scope (outside the function) and one available in the local scope (inside the function)\n",
    "x = 300\n",
    "def myfunc():\n",
    "    x=200\n",
    "    print(x)\n",
    "#The function will print the local x, and then the code will print the global x\n",
    "myfunc()\n",
    "print(x)"
   ]
  },
  {
   "cell_type": "code",
   "execution_count": 87,
   "id": "cd4df989",
   "metadata": {},
   "outputs": [
    {
     "name": "stdout",
     "output_type": "stream",
     "text": [
      "300\n",
      "300\n"
     ]
    }
   ],
   "source": [
    "#Global Keyword\n",
    "#If you need to create a global variable, but are stuck in the local scope, you can use the global keyword.\n",
    "#The global keyword makes the variable global\n",
    "def myfunc():\n",
    "    global x\n",
    "    x = 300\n",
    "    print(x)\n",
    "myfunc()\n",
    "print(x)"
   ]
  },
  {
   "cell_type": "code",
   "execution_count": 88,
   "id": "13c6de16",
   "metadata": {},
   "outputs": [
    {
     "name": "stdout",
     "output_type": "stream",
     "text": [
      "200\n",
      "200\n"
     ]
    }
   ],
   "source": [
    "#use the global keyword if you want to make a change to a global variable inside a function\n",
    "x = 300\n",
    "def myfunc():\n",
    "    global x\n",
    "    x=200\n",
    "    print(x)\n",
    "\n",
    "myfunc()\n",
    "print(x)"
   ]
  }
 ],
 "metadata": {
  "kernelspec": {
   "display_name": "Python 3 (ipykernel)",
   "language": "python",
   "name": "python3"
  },
  "language_info": {
   "codemirror_mode": {
    "name": "ipython",
    "version": 3
   },
   "file_extension": ".py",
   "mimetype": "text/x-python",
   "name": "python",
   "nbconvert_exporter": "python",
   "pygments_lexer": "ipython3",
   "version": "3.9.7"
  }
 },
 "nbformat": 4,
 "nbformat_minor": 5
}

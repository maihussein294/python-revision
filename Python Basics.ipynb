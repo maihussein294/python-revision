{
 "cells": [
  {
   "cell_type": "code",
   "execution_count": 1,
   "id": "428ce90b",
   "metadata": {},
   "outputs": [
    {
     "name": "stdout",
     "output_type": "stream",
     "text": [
      "<class 'int'>\n"
     ]
    }
   ],
   "source": [
    "#data types &variables\n",
    "#variable is reference to object in memory\n",
    "x=10\n",
    "print(type(x))"
   ]
  },
  {
   "cell_type": "code",
   "execution_count": 3,
   "id": "b2a31815",
   "metadata": {},
   "outputs": [
    {
     "name": "stdout",
     "output_type": "stream",
     "text": [
      "20 20\n",
      "1753577778064 1753577778064\n"
     ]
    }
   ],
   "source": [
    "#id is reference to object location in memory\n",
    "i = 20\n",
    "j=i \n",
    "print(i,j)                #same location\n",
    "print(id(i),id(j))"
   ]
  },
  {
   "cell_type": "code",
   "execution_count": 5,
   "id": "e627bf8c",
   "metadata": {},
   "outputs": [
    {
     "name": "stdout",
     "output_type": "stream",
     "text": [
      "enter first namemai\n",
      "mai <class 'str'>\n"
     ]
    }
   ],
   "source": [
    "#take input from user\n",
    "#input always return string even if you enter int\n",
    "var1= input(\"enter first name\")\n",
    "print(var1,type(var1))"
   ]
  },
  {
   "cell_type": "code",
   "execution_count": 6,
   "id": "5c5ca533",
   "metadata": {},
   "outputs": [
    {
     "name": "stdout",
     "output_type": "stream",
     "text": [
      "enter your age22\n",
      "22 <class 'int'>\n"
     ]
    }
   ],
   "source": [
    "#conversion\n",
    "var1= int(input(\"enter your age\"))\n",
    "print(var1,type(var1))"
   ]
  },
  {
   "cell_type": "code",
   "execution_count": 8,
   "id": "d7d88c96",
   "metadata": {},
   "outputs": [
    {
     "name": "stdout",
     "output_type": "stream",
     "text": [
      "0.6666666666666666\n",
      "0\n"
     ]
    }
   ],
   "source": [
    "#numbers data types (int,float,complex(2+2j))\n",
    "#operators (+,-,/-->float division,//-->integer division,%,**)\n",
    "print(2/3)\n",
    "print(2//3)"
   ]
  },
  {
   "cell_type": "code",
   "execution_count": 9,
   "id": "6761f6e0",
   "metadata": {},
   "outputs": [
    {
     "data": {
      "text/plain": [
       "20"
      ]
     },
     "execution_count": 9,
     "metadata": {},
     "output_type": "execute_result"
    }
   ],
   "source": [
    "#augmented assignment operator(+=,-=,*=,/=,//=,%=,**=)\n",
    "x=10\n",
    "x+=10\n",
    "x"
   ]
  },
  {
   "cell_type": "code",
   "execution_count": 19,
   "id": "50ee7a85",
   "metadata": {},
   "outputs": [
    {
     "name": "stdout",
     "output_type": "stream",
     "text": [
      "0b111000\n",
      "0x38\n",
      "0o70\n",
      "<class 'str'>\n",
      "56\n"
     ]
    }
   ],
   "source": [
    "#convert decimal to hexa or binary\n",
    "x=56\n",
    "print(bin(x))\n",
    "print(hex(x))\n",
    "print(oct(x))\n",
    "print(type(oct(x)))    #return string\n",
    "print(int(0x38))  #decimal"
   ]
  },
  {
   "cell_type": "code",
   "execution_count": 23,
   "id": "b686eb4e",
   "metadata": {},
   "outputs": [
    {
     "data": {
      "text/plain": [
       "'she said that\"iam so intelligence\"'"
      ]
     },
     "execution_count": 23,
     "metadata": {},
     "output_type": "execute_result"
    }
   ],
   "source": [
    "#2- strings('',\"\"),if you want to show \"\" put \\ before\n",
    "str1=\"she said that\\\"iam so intelligence\\\"\"\n",
    "str1"
   ]
  },
  {
   "cell_type": "code",
   "execution_count": 29,
   "id": "10416e5d",
   "metadata": {},
   "outputs": [
    {
     "name": "stdout",
     "output_type": "stream",
     "text": [
      "helloworld\n",
      "hellohellohello\n",
      "h\n",
      "hel\n"
     ]
    }
   ],
   "source": [
    "# str operations(concatenate(+), indexing,slicing)\n",
    "#concatenate(+)\n",
    "s1=\"hello\"\n",
    "s2=\"world\"\n",
    "s3=s1+s2\n",
    "print(s3)\n",
    "s4=s1*3     #repeat more than one time\n",
    "print(s4)\n",
    "#indexing\n",
    "print(s1[0])\n",
    "#slicing\n",
    "print(s1[0:3])"
   ]
  },
  {
   "cell_type": "code",
   "execution_count": 30,
   "id": "002fa5fd",
   "metadata": {},
   "outputs": [
    {
     "ename": "TypeError",
     "evalue": "'str' object does not support item assignment",
     "output_type": "error",
     "traceback": [
      "\u001b[1;31m---------------------------------------------------------------------------\u001b[0m",
      "\u001b[1;31mTypeError\u001b[0m                                 Traceback (most recent call last)",
      "\u001b[1;32mC:\\Users\\LAPTOP~1\\AppData\\Local\\Temp/ipykernel_16460/3781958447.py\u001b[0m in \u001b[0;36m<module>\u001b[1;34m\u001b[0m\n\u001b[1;32m----> 1\u001b[1;33m \u001b[0ms1\u001b[0m\u001b[1;33m[\u001b[0m\u001b[1;36m2\u001b[0m\u001b[1;33m]\u001b[0m\u001b[1;33m=\u001b[0m\u001b[1;34m\"x\"\u001b[0m   \u001b[1;31m#string is immutable cannot change value\u001b[0m\u001b[1;33m\u001b[0m\u001b[1;33m\u001b[0m\u001b[0m\n\u001b[0m\u001b[0;32m      2\u001b[0m \u001b[0ms1\u001b[0m\u001b[1;33m+=\u001b[0m\u001b[1;34m\"world\"\u001b[0m\u001b[1;33m\u001b[0m\u001b[1;33m\u001b[0m\u001b[0m\n\u001b[0;32m      3\u001b[0m \u001b[0ms1\u001b[0m\u001b[1;33m\u001b[0m\u001b[1;33m\u001b[0m\u001b[0m\n",
      "\u001b[1;31mTypeError\u001b[0m: 'str' object does not support item assignment"
     ]
    }
   ],
   "source": [
    "s1[2]=\"x\"   #string is immutable cannot change value\n",
    "s1+=\"world\"\n",
    "s1"
   ]
  },
  {
   "cell_type": "code",
   "execution_count": 32,
   "id": "d1c219cd",
   "metadata": {},
   "outputs": [
    {
     "name": "stdout",
     "output_type": "stream",
     "text": [
      "1753659862064\n"
     ]
    }
   ],
   "source": [
    "s1+=\"world\"\n",
    "print(id(s1))"
   ]
  },
  {
   "cell_type": "code",
   "execution_count": 38,
   "id": "ad520d4d",
   "metadata": {},
   "outputs": [
    {
     "name": "stdout",
     "output_type": "stream",
     "text": [
      "A\n",
      "65\n",
      "97\n"
     ]
    }
   ],
   "source": [
    "# char of number\n",
    "x=65\n",
    "print(chr(x))\n",
    "#num of char\n",
    "print(ord('A'))\n",
    "print(ord('a'))"
   ]
  },
  {
   "cell_type": "code",
   "execution_count": 80,
   "id": "9d6093ad",
   "metadata": {},
   "outputs": [
    {
     "name": "stdout",
     "output_type": "stream",
     "text": [
      "True\n",
      "False\n",
      "MAe HuSSeen\n",
      "2\n",
      "6\n",
      "7\n",
      "----------------------------\n",
      "mai hussein\n",
      "Mai hussein\n",
      "MAI HUSSEIN\n",
      "Mai Hussein\n",
      "maI hUssEIN\n"
     ]
    }
   ],
   "source": [
    "#string operators (in ,not in ,==(comparsion),>,)is alphanumeric--->contain str&digits and not have space \n",
    "#is alpha---->only letters, is digit--->only digits ,is identifier, is lower-->all letter small , is upper , is space--->contain space\n",
    "#search-->specific char , replace(\"\",\"\"), ends with(\"word\",\"letter\"),starts with(\"word\",\"letter\"), count--> how many letter found\n",
    "#find(\"\",\"\")---->retun firist index , rfind--->highest index\n",
    "x=\"MAi HuSSein\"\n",
    "print('i' in x)\n",
    "print('i' not in x)\n",
    "print( x.replace(\"i\",\"e\"))\n",
    "#print( x.endswith(\"HuSSein\",\"e\"))\n",
    "#print( x.startswith(\"HuSSein\",\"e\"))\n",
    "print(x.count(\"S\"))\n",
    "print(x.find(\"S\"))\n",
    "print(x.rfind(\"S\"))\n",
    "print(\"----------------------------\")\n",
    "#conversion   (captalize---> first letter capital, lower--->all letter small, upper ----> all capital)\n",
    "#(tittle --->first letter from each word capital , swapcase---> switch capital to small and small to capita;l)\n",
    "x=\"MAi HuSSein\"\n",
    "print(x.lower())\n",
    "print(x.capitalize())\n",
    "print(x.upper())\n",
    "print(x.title())\n",
    "print(x.swapcase())"
   ]
  },
  {
   "cell_type": "code",
   "execution_count": 84,
   "id": "e60b75d9",
   "metadata": {},
   "outputs": [
    {
     "name": "stdout",
     "output_type": "stream",
     "text": [
      "1\n",
      "6\n",
      "[1, 2, 3, 8]\n",
      "['t', 'h', 'o', 'n']\n"
     ]
    }
   ],
   "source": [
    "#list collection of items from different types\n",
    "list1=[1,2,3,4,5,6]\n",
    "l2=list()      #empty list\n",
    "l3=list([1,2,3,8,6]) \n",
    "l4=list(\"python\")      #list for letters\n",
    "print(list1[0])              #acess item\n",
    "print(list1[-1])              #last item\n",
    "print(l3[0:4])             #slicing\n",
    "print(l4[2:])"
   ]
  },
  {
   "cell_type": "code",
   "execution_count": 87,
   "id": "06ef290f",
   "metadata": {},
   "outputs": [
    {
     "name": "stdout",
     "output_type": "stream",
     "text": [
      "True\n",
      "[1, 2, 3, 4, 5, 6, 1, 2, 3, 8, 6]\n",
      "5\n",
      "8\n",
      "1\n",
      "20\n"
     ]
    }
   ],
   "source": [
    "#list operations (in ,not in ,concatenation(+) ,len(),min(),max(),sum())\n",
    "print(2 in list1)\n",
    "print(list1+l3)\n",
    "print(len(l3))\n",
    "print(max(l3))\n",
    "print(min(l3))\n",
    "print(sum(l3))            #sum all element in list"
   ]
  },
  {
   "cell_type": "code",
   "execution_count": 109,
   "id": "94d83e27",
   "metadata": {},
   "outputs": [
    {
     "name": "stdout",
     "output_type": "stream",
     "text": [
      "None\n",
      "[1, 2, 3, 4, 5, 6, 8, 9, 6, 2, 5, 3]\n",
      "None\n",
      "[1, 2, 3, 4, 5, 6, 8, 9, 6, 2, 5, 3, 3, 5, 9, 7]\n",
      "None\n",
      "[1, 2, 3, 10, 4, 5, 6, 8, 9, 6, 2, 5, 3, 3, 5, 9, 7]\n",
      "None\n",
      "[1, 2, 10, 4, 5, 6, 8, 9, 6, 2, 5, 3, 3, 5, 9, 7]\n",
      "7\n",
      "[1, 2, 10, 4, 5, 6, 8, 9, 6, 2, 5, 3, 3, 5, 9]\n",
      "5\n",
      "[1, 2, 10, 4, 6, 8, 9, 6, 2, 5, 3, 3, 5, 9]\n",
      "2\n",
      "None\n",
      "[1, 2, 2, 3, 3, 4, 5, 5, 6, 6, 8, 9, 9, 10]\n",
      "None\n",
      "[10, 9, 9, 8, 6, 6, 5, 5, 4, 3, 3, 2, 2, 1]\n",
      "[10, 9, 9, 8, 6, 6, 5, 5, 4, 3, 3, 2, 2, 1]\n",
      "[]\n"
     ]
    },
    {
     "ename": "NameError",
     "evalue": "name 'mylist' is not defined",
     "output_type": "error",
     "traceback": [
      "\u001b[1;31m---------------------------------------------------------------------------\u001b[0m",
      "\u001b[1;31mNameError\u001b[0m                                 Traceback (most recent call last)",
      "\u001b[1;32mC:\\Users\\LAPTOP~1\\AppData\\Local\\Temp/ipykernel_16460/1490434647.py\u001b[0m in \u001b[0;36m<module>\u001b[1;34m\u001b[0m\n\u001b[0;32m     24\u001b[0m \u001b[0mprint\u001b[0m\u001b[1;33m(\u001b[0m\u001b[0mmylist\u001b[0m\u001b[1;33m)\u001b[0m\u001b[1;33m\u001b[0m\u001b[1;33m\u001b[0m\u001b[0m\n\u001b[0;32m     25\u001b[0m \u001b[1;32mdel\u001b[0m\u001b[1;33m(\u001b[0m\u001b[0mmylist\u001b[0m\u001b[1;33m)\u001b[0m    \u001b[1;31m#delete list\u001b[0m\u001b[1;33m\u001b[0m\u001b[1;33m\u001b[0m\u001b[0m\n\u001b[1;32m---> 26\u001b[1;33m \u001b[0mprint\u001b[0m\u001b[1;33m(\u001b[0m\u001b[0mmylist\u001b[0m\u001b[1;33m)\u001b[0m\u001b[1;33m\u001b[0m\u001b[1;33m\u001b[0m\u001b[0m\n\u001b[0m",
      "\u001b[1;31mNameError\u001b[0m: name 'mylist' is not defined"
     ]
    }
   ],
   "source": [
    "#append()-->add 1 item , extent()--> add group of items, insert(index,element)-->add item in specific place\n",
    "#remove(),sort(), reversre(), pop()-->last item, count(),copy(),clear(),delete()\n",
    "lista=[1,2,3,4,5,6,8,9,6,2,5]\n",
    "print(lista.append(3))\n",
    "print(lista)\n",
    "print(lista.extend([3,5,9,7]))\n",
    "print(lista)\n",
    "print(lista.insert(3,10))\n",
    "print(lista)\n",
    "print(lista.remove(3))     #1st item\n",
    "print(lista)\n",
    "print(lista.pop())    #last\n",
    "print(lista)\n",
    "print(lista.pop(4))   #index\n",
    "print(lista)\n",
    "print(lista.count(6))\n",
    "print(lista.sort())\n",
    "print(lista)\n",
    "print(lista.reverse())\n",
    "print(lista)\n",
    "mylist=lista.copy()\n",
    "print(mylist)\n",
    "mylist.clear()    #find list but empty\n",
    "print(mylist)\n",
    "del(mylist)    #delete list\n",
    "print(mylist)"
   ]
  },
  {
   "cell_type": "code",
   "execution_count": 102,
   "id": "609682f1",
   "metadata": {},
   "outputs": [
    {
     "name": "stdout",
     "output_type": "stream",
     "text": [
      "[1, 2, 3]\n",
      "2\n"
     ]
    }
   ],
   "source": [
    "#complex list \n",
    "l1=[[1,2,3],[4,5,6],[7,8,9]]\n",
    "name=l1[0]\n",
    "print(name)\n",
    "print(l1[0][1])"
   ]
  },
  {
   "cell_type": "code",
   "execution_count": 113,
   "id": "8109fbf1",
   "metadata": {},
   "outputs": [
    {
     "name": "stdout",
     "output_type": "stream",
     "text": [
      "1\n"
     ]
    },
    {
     "ename": "TypeError",
     "evalue": "'tuple' object does not support item assignment",
     "output_type": "error",
     "traceback": [
      "\u001b[1;31m---------------------------------------------------------------------------\u001b[0m",
      "\u001b[1;31mTypeError\u001b[0m                                 Traceback (most recent call last)",
      "\u001b[1;32mC:\\Users\\LAPTOP~1\\AppData\\Local\\Temp/ipykernel_16460/900847158.py\u001b[0m in \u001b[0;36m<module>\u001b[1;34m\u001b[0m\n\u001b[0;32m      6\u001b[0m \u001b[0mt5\u001b[0m\u001b[1;33m=\u001b[0m\u001b[0mtuple\u001b[0m\u001b[1;33m(\u001b[0m\u001b[1;34m\"python\"\u001b[0m\u001b[1;33m)\u001b[0m\u001b[1;33m\u001b[0m\u001b[1;33m\u001b[0m\u001b[0m\n\u001b[0;32m      7\u001b[0m \u001b[0mprint\u001b[0m\u001b[1;33m(\u001b[0m\u001b[0mt1\u001b[0m\u001b[1;33m[\u001b[0m\u001b[1;36m0\u001b[0m\u001b[1;33m]\u001b[0m\u001b[1;33m)\u001b[0m\u001b[1;33m\u001b[0m\u001b[1;33m\u001b[0m\u001b[0m\n\u001b[1;32m----> 8\u001b[1;33m \u001b[0mt1\u001b[0m\u001b[1;33m[\u001b[0m\u001b[1;36m1\u001b[0m\u001b[1;33m]\u001b[0m\u001b[1;33m=\u001b[0m\u001b[1;36m100\u001b[0m\u001b[1;33m\u001b[0m\u001b[1;33m\u001b[0m\u001b[0m\n\u001b[0m",
      "\u001b[1;31mTypeError\u001b[0m: 'tuple' object does not support item assignment"
     ]
    }
   ],
   "source": [
    "#Tuples : collection of items (different data types) once created you cannot change(add or delete ) /immutable\n",
    "t1=(1,)  # 1 item\n",
    "t2=(1,2,3,4,5)\n",
    "t3=tuple([1,3,6,8,9])\n",
    "#t4=tuple(4,)     #TypeError: 'int' object is not iterable\n",
    "t5=tuple(\"python\")\n",
    "print(t1[0])\n",
    "t1[1]=100             #TypeError: 'tuple' object does not support item assignment"
   ]
  },
  {
   "cell_type": "code",
   "execution_count": 114,
   "id": "39ece254",
   "metadata": {},
   "outputs": [
    {
     "name": "stdout",
     "output_type": "stream",
     "text": [
      "True\n",
      "(1, 2, 3, 4, 5, 1, 3, 6, 8, 9)\n",
      "5\n",
      "9\n",
      "1\n",
      "27\n"
     ]
    }
   ],
   "source": [
    "#tuple functions: max(),min(),sum(),len(), in ,not in,+concatenate\n",
    "print(2 in t2)\n",
    "print(t2+t3)\n",
    "print(len(t3))\n",
    "print(max(t3))\n",
    "print(min(t3))\n",
    "print(sum(t3))"
   ]
  },
  {
   "cell_type": "code",
   "execution_count": 115,
   "id": "8f28534c",
   "metadata": {},
   "outputs": [
    {
     "name": "stdout",
     "output_type": "stream",
     "text": [
      "(1, 3, 5)\n",
      "3\n"
     ]
    }
   ],
   "source": [
    "#nested tuples\n",
    "t6=((1,3,5),(4,6),(8,9))\n",
    "print(t6[0])\n",
    "print(t6[0][1])"
   ]
  },
  {
   "cell_type": "code",
   "execution_count": 118,
   "id": "73e3eace",
   "metadata": {},
   "outputs": [
    {
     "name": "stdout",
     "output_type": "stream",
     "text": [
      "(1, 3, 5)\n",
      "(4, 6)\n",
      "(8, 9)\n"
     ]
    }
   ],
   "source": [
    "for i in t6:\n",
    "    print(i,end=\"\\n\")"
   ]
  },
  {
   "cell_type": "code",
   "execution_count": 119,
   "id": "1ad87b9c",
   "metadata": {},
   "outputs": [
    {
     "name": "stdout",
     "output_type": "stream",
     "text": [
      "1\n",
      "3\n",
      "5\n"
     ]
    }
   ],
   "source": [
    "for i in t6[0]:\n",
    "    print(i,end=\"\\n\")"
   ]
  },
  {
   "cell_type": "code",
   "execution_count": 124,
   "id": "28200541",
   "metadata": {},
   "outputs": [
    {
     "name": "stdout",
     "output_type": "stream",
     "text": [
      "['volvo', 'kia', 'toyota']\n",
      "['volvo', 'BM', 'toyota']\n",
      "('volvo', 'BM', 'toyota')\n"
     ]
    }
   ],
   "source": [
    "#change tuple to list       now you can change or add item\n",
    "x=(\"volvo\",\"kia\",\"toyota\")\n",
    "y=list(x)\n",
    "print(y)\n",
    "y[1]=\"BM\"\n",
    "print(y)\n",
    "x= tuple(y)\n",
    "print(x)"
   ]
  },
  {
   "cell_type": "code",
   "execution_count": 128,
   "id": "73c9b6c9",
   "metadata": {},
   "outputs": [
    {
     "name": "stdout",
     "output_type": "stream",
     "text": [
      "{'kareem', 'mai', 'hend', 'mona', 'hager'}\n",
      "{'kareem', 'mai', 'mona', 'hager'}\n"
     ]
    }
   ],
   "source": [
    "#set : un ordered, un indexed , changable\n",
    "my_set={\"mai\",\"mona\",\"hend\",\"hager\"}\n",
    "my_set.add(\"kareem\")\n",
    "print(my_set)            #show with any order\n",
    "my_set.remove(\"hend\")\n",
    "print(my_set)"
   ]
  },
  {
   "cell_type": "code",
   "execution_count": 143,
   "id": "831c29b8",
   "metadata": {},
   "outputs": [
    {
     "name": "stdout",
     "output_type": "stream",
     "text": [
      "{'name': 'mai', 'age': 22, 'dept': 'bio'}\n",
      "mai\n",
      "{'name': 'mai', 'age': 22, 'dept': 'bio', 'fav.color': 'black'}\n",
      "{'name': 'mai', 'age': 22, 'dept': 'bio'}\n",
      "not exist\n",
      "dict_keys(['name', 'age', 'dept'])\n",
      "dict_values(['mai', 22, 'bio'])\n",
      "{'name': 'mai', 'age': 22, 'dept': 'bio'}\n",
      "{}\n",
      "{'age': 22, 'dept': 'bio'}\n"
     ]
    },
    {
     "ename": "NameError",
     "evalue": "name 'dict2' is not defined",
     "output_type": "error",
     "traceback": [
      "\u001b[1;31m---------------------------------------------------------------------------\u001b[0m",
      "\u001b[1;31mNameError\u001b[0m                                 Traceback (most recent call last)",
      "\u001b[1;32mC:\\Users\\LAPTOP~1\\AppData\\Local\\Temp/ipykernel_16460/2108799886.py\u001b[0m in \u001b[0;36m<module>\u001b[1;34m\u001b[0m\n\u001b[0;32m     24\u001b[0m \u001b[0mprint\u001b[0m\u001b[1;33m(\u001b[0m\u001b[0mdict1\u001b[0m\u001b[1;33m)\u001b[0m\u001b[1;33m\u001b[0m\u001b[1;33m\u001b[0m\u001b[0m\n\u001b[0;32m     25\u001b[0m \u001b[1;32mdel\u001b[0m\u001b[1;33m(\u001b[0m\u001b[0mdict2\u001b[0m\u001b[1;33m)\u001b[0m\u001b[1;33m\u001b[0m\u001b[1;33m\u001b[0m\u001b[0m\n\u001b[1;32m---> 26\u001b[1;33m \u001b[0mprint\u001b[0m\u001b[1;33m(\u001b[0m\u001b[0mdict2\u001b[0m\u001b[1;33m)\u001b[0m\u001b[1;33m\u001b[0m\u001b[1;33m\u001b[0m\u001b[0m\n\u001b[0m",
      "\u001b[1;31mNameError\u001b[0m: name 'dict2' is not defined"
     ]
    }
   ],
   "source": [
    "#dictionaries:  key:value\n",
    "dict1={\"name\":\"mai\",\n",
    "       \"age\":22,\n",
    "       \"dept\":\"bio\"}\n",
    "print(dict1)\n",
    "#methods : pop(lkey),get(key), in ,not in ,len(),==\n",
    "#acess value\n",
    "print(dict1.get(\"name\"))\n",
    "#add \n",
    "dict1[\"fav.color\"]=\"black\"\n",
    "print(dict1)\n",
    "#remove\n",
    "dict1.pop(\"fav.color\")\n",
    "print(dict1)\n",
    "#dict1.pop(\"fav.color\")     #not exist  system error\n",
    "print(dict1.get(\"fav.color\",\"not exist\"))\n",
    "print(dict1.keys())\n",
    "print(dict1.values())\n",
    "dict2=dict1.copy()\n",
    "print(dict2)\n",
    "dict2.clear()\n",
    "print(dict2)\n",
    "del(dict1[\"name\"])\n",
    "print(dict1)\n",
    "del(dict2)\n",
    "print(dict2)"
   ]
  },
  {
   "cell_type": "code",
   "execution_count": 144,
   "id": "e3132828",
   "metadata": {},
   "outputs": [
    {
     "name": "stdout",
     "output_type": "stream",
     "text": [
      "age\n",
      "dept\n"
     ]
    }
   ],
   "source": [
    "#loops in dict\n",
    "for k in dict1:\n",
    "    print(k)"
   ]
  },
  {
   "cell_type": "code",
   "execution_count": 146,
   "id": "5d776559",
   "metadata": {},
   "outputs": [
    {
     "name": "stdout",
     "output_type": "stream",
     "text": [
      "age 22\n",
      "dept bio\n"
     ]
    }
   ],
   "source": [
    "for k in dict1:\n",
    "    print(k,dict1[k])"
   ]
  },
  {
   "cell_type": "code",
   "execution_count": 149,
   "id": "d14d32bd",
   "metadata": {},
   "outputs": [
    {
     "name": "stdout",
     "output_type": "stream",
     "text": [
      "{'name': 'marwa', 'age': 28, 'course': 'marketing'}\n"
     ]
    }
   ],
   "source": [
    "#nested dictionary\n",
    "my_students={\n",
    "    \"student1\":{\n",
    "        \"name\":\"mai\",\n",
    "        \"age\":22,\n",
    "        \"course\":\"python\"\n",
    "    },\n",
    "    \"student2\":{\n",
    "        \"name\":\"mona\",\n",
    "        \"age\":24,\n",
    "        \"course\":\"c#\"\n",
    "    },\n",
    "    \"student3\":{\n",
    "        \"name\":\"marwa\",\n",
    "        \"age\":28,\n",
    "        \"course\":\"marketing\"\n",
    "    }\n",
    "}\n",
    "print(my_students.get(\"student3\"))"
   ]
  },
  {
   "cell_type": "code",
   "execution_count": 150,
   "id": "4ec72615",
   "metadata": {},
   "outputs": [
    {
     "name": "stdout",
     "output_type": "stream",
     "text": [
      "enter number:15\n",
      "odd\n"
     ]
    }
   ],
   "source": [
    "# if statement    2 conditions\n",
    "num= int(input(\"enter number:\"))\n",
    "if num%2==0:\n",
    "    print(\"even\")\n",
    "else:\n",
    "    print(\"odd\")"
   ]
  },
  {
   "cell_type": "code",
   "execution_count": 151,
   "id": "b3908df8",
   "metadata": {},
   "outputs": [
    {
     "name": "stdout",
     "output_type": "stream",
     "text": [
      "enter number:100\n",
      "excellent\n"
     ]
    }
   ],
   "source": [
    "# if statement     more than 2 conditions\n",
    "mark= int(input(\"enter number:\"))\n",
    "if mark>=90:\n",
    "    print(\"excellent\")\n",
    "elif mark<90 and mark>=75:\n",
    "    print(\"V.Good\")\n",
    "elif mark<70 and mark>=65:\n",
    "    print(\"Good\")\n",
    "elif mark<65 and mark>=60:\n",
    "    print(\"pass\")\n",
    "else:\n",
    "    print(\"invalid\")"
   ]
  },
  {
   "cell_type": "code",
   "execution_count": 154,
   "id": "53ffc48f",
   "metadata": {},
   "outputs": [
    {
     "data": {
      "text/plain": [
       "50"
      ]
     },
     "execution_count": 154,
     "metadata": {},
     "output_type": "execute_result"
    }
   ],
   "source": [
    "#ternary if \n",
    "a=50\n",
    "b=20\n",
    "max1  =a if(a>b) else b\n",
    "max1"
   ]
  },
  {
   "cell_type": "code",
   "execution_count": 163,
   "id": "56bb2b14",
   "metadata": {},
   "outputs": [
    {
     "name": "stdout",
     "output_type": "stream",
     "text": [
      "b is equal a\n"
     ]
    }
   ],
   "source": [
    "a=33\n",
    "b=33\n",
    "if b>a:\n",
    "    print(\"b is bigger than a\")\n",
    "elif b==a:\n",
    "    print(\"b is equal a\")\n",
    "else:\n",
    "    print(\"other wise\")"
   ]
  },
  {
   "cell_type": "code",
   "execution_count": 164,
   "id": "f1932400",
   "metadata": {},
   "outputs": [
    {
     "name": "stdout",
     "output_type": "stream",
     "text": [
      "both conditions are true\n"
     ]
    }
   ],
   "source": [
    "a=200\n",
    "b=33\n",
    "c=500\n",
    "if a>b and c>a :\n",
    "    print(\"both conditions are true\")\n",
    "else:\n",
    "    print(\"False\")"
   ]
  },
  {
   "cell_type": "code",
   "execution_count": 155,
   "id": "f1d953d6",
   "metadata": {},
   "outputs": [
    {
     "name": "stdout",
     "output_type": "stream",
     "text": [
      "enter number:-3\n",
      "invalid\n"
     ]
    }
   ],
   "source": [
    "#nested if \n",
    "num= int(input(\"enter number:\"))\n",
    "if num>0:\n",
    "    if num%2==0:\n",
    "        print(\"even\")\n",
    "    else:\n",
    "        print(\"odd\")\n",
    "else:\n",
    "    print(\"invalid\")"
   ]
  },
  {
   "cell_type": "code",
   "execution_count": 156,
   "id": "7829aca0",
   "metadata": {},
   "outputs": [
    {
     "name": "stdout",
     "output_type": "stream",
     "text": [
      "0\n",
      "1\n",
      "2\n",
      "3\n",
      "4\n",
      "5\n",
      "6\n",
      "7\n",
      "8\n",
      "9\n"
     ]
    }
   ],
   "source": [
    "#control statement : loops\n",
    "#for loop\n",
    "for i in range(10):  #range(min:max-1) ,   range(min ,max, step)\n",
    "    print(i)"
   ]
  },
  {
   "cell_type": "code",
   "execution_count": 157,
   "id": "01465f78",
   "metadata": {},
   "outputs": [
    {
     "name": "stdout",
     "output_type": "stream",
     "text": [
      "0\n",
      "3\n",
      "6\n",
      "9\n"
     ]
    }
   ],
   "source": [
    "for i in range(0,10,3):  #range(min:max-1) ,   range(min ,max, step)\n",
    "    print(i)"
   ]
  },
  {
   "cell_type": "code",
   "execution_count": 160,
   "id": "d42f7364",
   "metadata": {},
   "outputs": [
    {
     "name": "stdout",
     "output_type": "stream",
     "text": [
      "0\n",
      "1\n",
      "2\n",
      "3\n",
      "4\n",
      "5\n",
      "6\n",
      "7\n",
      "8\n",
      "9\n"
     ]
    }
   ],
   "source": [
    "#while  condition---->do statement---->incre\n",
    "count=0\n",
    "while count<10:\n",
    "    print(count)\n",
    "    count+=1"
   ]
  },
  {
   "cell_type": "code",
   "execution_count": 162,
   "id": "cdc83e9a",
   "metadata": {},
   "outputs": [
    {
     "name": "stdout",
     "output_type": "stream",
     "text": [
      "1\n",
      "2\n",
      "3\n",
      "4\n",
      "6\n",
      "7\n"
     ]
    }
   ],
   "source": [
    "#continue &break\n",
    "count=0\n",
    "while count<10:\n",
    "    count+=1\n",
    "    if count==5:\n",
    "        continue      #\n",
    "    elif count==8:\n",
    "        break      #exit loop \n",
    "    print(count) "
   ]
  },
  {
   "cell_type": "code",
   "execution_count": 165,
   "id": "946213ee",
   "metadata": {},
   "outputs": [
    {
     "name": "stdout",
     "output_type": "stream",
     "text": [
      "1\n",
      "2\n",
      "3\n",
      "4\n",
      "5\n"
     ]
    }
   ],
   "source": [
    "i = 1 #inital counter \n",
    "while i<6:\n",
    "    print(i)\n",
    "    i+=1"
   ]
  },
  {
   "cell_type": "code",
   "execution_count": 166,
   "id": "7ea467d7",
   "metadata": {},
   "outputs": [
    {
     "name": "stdout",
     "output_type": "stream",
     "text": [
      "1\n",
      "2\n",
      "3\n"
     ]
    }
   ],
   "source": [
    "i = 1 #inital counter \n",
    "while i<6:\n",
    "    print(i)\n",
    "    if i==3:\n",
    "        break\n",
    "    i+=1"
   ]
  },
  {
   "cell_type": "code",
   "execution_count": 169,
   "id": "e8372666",
   "metadata": {},
   "outputs": [
    {
     "name": "stdout",
     "output_type": "stream",
     "text": [
      "2\n",
      "3\n"
     ]
    },
    {
     "ename": "KeyboardInterrupt",
     "evalue": "",
     "output_type": "error",
     "traceback": [
      "\u001b[1;31m---------------------------------------------------------------------------\u001b[0m",
      "\u001b[1;31mKeyboardInterrupt\u001b[0m                         Traceback (most recent call last)",
      "\u001b[1;32mC:\\Users\\LAPTOP~1\\AppData\\Local\\Temp/ipykernel_16460/757453397.py\u001b[0m in \u001b[0;36m<module>\u001b[1;34m\u001b[0m\n\u001b[0;32m      1\u001b[0m \u001b[0mi\u001b[0m \u001b[1;33m=\u001b[0m \u001b[1;36m1\u001b[0m \u001b[1;31m#inital counter\u001b[0m\u001b[1;33m\u001b[0m\u001b[1;33m\u001b[0m\u001b[0m\n\u001b[1;32m----> 2\u001b[1;33m \u001b[1;32mwhile\u001b[0m \u001b[0mi\u001b[0m\u001b[1;33m<\u001b[0m\u001b[1;36m7\u001b[0m\u001b[1;33m:\u001b[0m\u001b[1;33m\u001b[0m\u001b[1;33m\u001b[0m\u001b[0m\n\u001b[0m\u001b[0;32m      3\u001b[0m     \u001b[1;32mif\u001b[0m \u001b[0mi\u001b[0m\u001b[1;33m==\u001b[0m\u001b[1;36m3\u001b[0m\u001b[1;33m:\u001b[0m\u001b[1;33m\u001b[0m\u001b[1;33m\u001b[0m\u001b[0m\n\u001b[0;32m      4\u001b[0m         \u001b[1;32mcontinue\u001b[0m\u001b[1;33m\u001b[0m\u001b[1;33m\u001b[0m\u001b[0m\n\u001b[0;32m      5\u001b[0m     \u001b[0mi\u001b[0m\u001b[1;33m+=\u001b[0m\u001b[1;36m1\u001b[0m\u001b[1;33m\u001b[0m\u001b[1;33m\u001b[0m\u001b[0m\n",
      "\u001b[1;31mKeyboardInterrupt\u001b[0m: "
     ]
    }
   ],
   "source": [
    "i = 1 #inital counter \n",
    "while i<7:  \n",
    "    if i==3:\n",
    "        continue\n",
    "    i+=1\n",
    "    print(i)        #infinite loop"
   ]
  },
  {
   "cell_type": "code",
   "execution_count": 170,
   "id": "fdd281c1",
   "metadata": {},
   "outputs": [
    {
     "name": "stdout",
     "output_type": "stream",
     "text": [
      "2\n",
      "4\n",
      "5\n",
      "6\n",
      "7\n"
     ]
    }
   ],
   "source": [
    "i = 1 #inital counter \n",
    "while i<7:\n",
    "    i+=1\n",
    "    if i==3:\n",
    "        continue \n",
    "    print(i)"
   ]
  },
  {
   "cell_type": "code",
   "execution_count": 171,
   "id": "da9f393c",
   "metadata": {},
   "outputs": [
    {
     "name": "stdout",
     "output_type": "stream",
     "text": [
      "apple\n",
      "orange\n",
      "mango\n"
     ]
    }
   ],
   "source": [
    "fruits=[\"apple\",\"orange\",\"mango\"]\n",
    "for x in fruits:\n",
    "    print(x)"
   ]
  },
  {
   "cell_type": "code",
   "execution_count": 172,
   "id": "4f672671",
   "metadata": {},
   "outputs": [
    {
     "name": "stdout",
     "output_type": "stream",
     "text": [
      "apple\n",
      "orange\n"
     ]
    }
   ],
   "source": [
    "fruits=[\"apple\",\"orange\",\"mango\"]\n",
    "for x in fruits:\n",
    "    print(x)\n",
    "    if x==\"orange\":\n",
    "        break"
   ]
  },
  {
   "cell_type": "code",
   "execution_count": 173,
   "id": "bbef7918",
   "metadata": {},
   "outputs": [
    {
     "name": "stdout",
     "output_type": "stream",
     "text": [
      "apple\n"
     ]
    }
   ],
   "source": [
    "fruits=[\"apple\",\"orange\",\"mango\"]\n",
    "for x in fruits:\n",
    "    if x==\"orange\":\n",
    "        break\n",
    "    print(x)"
   ]
  },
  {
   "cell_type": "code",
   "execution_count": 185,
   "id": "6c4702f0",
   "metadata": {},
   "outputs": [
    {
     "name": "stdout",
     "output_type": "stream",
     "text": [
      "hello world!\n"
     ]
    }
   ],
   "source": [
    "# function no params\n",
    "def my_function():\n",
    "    print(\"hello world!\")\n",
    "my_function()"
   ]
  },
  {
   "cell_type": "code",
   "execution_count": 187,
   "id": "e2b815fa",
   "metadata": {},
   "outputs": [
    {
     "name": "stdout",
     "output_type": "stream",
     "text": [
      "mai hussein\n"
     ]
    }
   ],
   "source": [
    "#2 params\n",
    "def student(fname,lname):\n",
    "    print(fname+\" \"+lname)\n",
    "student(\"mai\",\"hussein\")"
   ]
  },
  {
   "cell_type": "code",
   "execution_count": 188,
   "id": "9b71285c",
   "metadata": {},
   "outputs": [
    {
     "name": "stdout",
     "output_type": "stream",
     "text": [
      "heba\n"
     ]
    }
   ],
   "source": [
    "def course(*students):     # *-->like list\n",
    "    print(students[1])\n",
    "course(\"Ahmed\",\"heba\",\"sara\",\"hager\")"
   ]
  },
  {
   "cell_type": "code",
   "execution_count": 189,
   "id": "33a6d54a",
   "metadata": {},
   "outputs": [
    {
     "name": "stdout",
     "output_type": "stream",
     "text": [
      "Ahmed\n",
      "heba\n",
      "sara\n",
      "hager\n"
     ]
    }
   ],
   "source": [
    "def course(*students):     # *-->like list\n",
    "    for i in students:\n",
    "        print(i)\n",
    "course(\"Ahmed\",\"heba\",\"sara\",\"hager\")"
   ]
  },
  {
   "cell_type": "code",
   "execution_count": 199,
   "id": "f530420f",
   "metadata": {},
   "outputs": [
    {
     "name": "stdout",
     "output_type": "stream",
     "text": [
      "mai\n"
     ]
    }
   ],
   "source": [
    "def myfunction(**student):     # *-->like dictionary\n",
    "    print(student[\"fname\"])\n",
    "myfunction(fname=\"mai\",age=22,lname=\"hussein\")"
   ]
  },
  {
   "cell_type": "code",
   "execution_count": 174,
   "id": "2c9f83b6",
   "metadata": {},
   "outputs": [
    {
     "data": {
      "text/plain": [
       "41"
      ]
     },
     "execution_count": 174,
     "metadata": {},
     "output_type": "execute_result"
    }
   ],
   "source": [
    "#functions: set of state which perform specific task and recall any time\n",
    "def sum(start,end):\n",
    "    result=0\n",
    "    for i in range(start,end+1):\n",
    "        result+=1\n",
    "    return result\n",
    "sum(10,50)"
   ]
  },
  {
   "cell_type": "code",
   "execution_count": 176,
   "id": "745bbdd0",
   "metadata": {},
   "outputs": [
    {
     "name": "stdout",
     "output_type": "stream",
     "text": [
      "(30, 10)\n",
      "<class 'tuple'>\n"
     ]
    }
   ],
   "source": [
    "def bigger(a,b):\n",
    "    if a>b:\n",
    "        return a,b \n",
    "    else:\n",
    "        return b,a\n",
    "results = bigger(10,30)\n",
    "print(results)\n",
    "print(type(results))"
   ]
  },
  {
   "cell_type": "code",
   "execution_count": 178,
   "id": "17f75fe7",
   "metadata": {},
   "outputs": [
    {
     "ename": "NameError",
     "evalue": "name 's' is not defined",
     "output_type": "error",
     "traceback": [
      "\u001b[1;31m---------------------------------------------------------------------------\u001b[0m",
      "\u001b[1;31mNameError\u001b[0m                                 Traceback (most recent call last)",
      "\u001b[1;32mC:\\Users\\LAPTOP~1\\AppData\\Local\\Temp/ipykernel_16460/464456329.py\u001b[0m in \u001b[0;36m<module>\u001b[1;34m\u001b[0m\n\u001b[0;32m      5\u001b[0m     \u001b[0ms\u001b[0m\u001b[1;33m=\u001b[0m\u001b[1;34m\"hello\"\u001b[0m\u001b[1;33m\u001b[0m\u001b[1;33m\u001b[0m\u001b[0m\n\u001b[0;32m      6\u001b[0m     \u001b[0mprint\u001b[0m\u001b[1;33m(\u001b[0m\u001b[0ms\u001b[0m\u001b[1;33m)\u001b[0m\u001b[1;33m\u001b[0m\u001b[1;33m\u001b[0m\u001b[0m\n\u001b[1;32m----> 7\u001b[1;33m \u001b[0mprint\u001b[0m\u001b[1;33m(\u001b[0m\u001b[0ms\u001b[0m\u001b[1;33m)\u001b[0m\u001b[1;33m\u001b[0m\u001b[1;33m\u001b[0m\u001b[0m\n\u001b[0m",
      "\u001b[1;31mNameError\u001b[0m: name 's' is not defined"
     ]
    }
   ],
   "source": [
    "#global &local variables\n",
    "#local: cannot acess or modify outside function\n",
    "#global: defined outside\n",
    "def func():\n",
    "    s=\"hello\" #local\n",
    "    print(s)\n",
    "print(s)"
   ]
  },
  {
   "cell_type": "code",
   "execution_count": 179,
   "id": "b4b86b30",
   "metadata": {},
   "outputs": [
    {
     "name": "stdout",
     "output_type": "stream",
     "text": [
      "hello\n"
     ]
    }
   ],
   "source": [
    "def func():\n",
    "    print(s)\n",
    "s=\"hello\"    #global\n",
    "func()    "
   ]
  },
  {
   "cell_type": "code",
   "execution_count": 180,
   "id": "d8d4cc9f",
   "metadata": {},
   "outputs": [
    {
     "ename": "UnboundLocalError",
     "evalue": "local variable 's' referenced before assignment",
     "output_type": "error",
     "traceback": [
      "\u001b[1;31m---------------------------------------------------------------------------\u001b[0m",
      "\u001b[1;31mUnboundLocalError\u001b[0m                         Traceback (most recent call last)",
      "\u001b[1;32mC:\\Users\\LAPTOP~1\\AppData\\Local\\Temp/ipykernel_16460/654278549.py\u001b[0m in \u001b[0;36m<module>\u001b[1;34m\u001b[0m\n\u001b[0;32m      4\u001b[0m     \u001b[0mprint\u001b[0m\u001b[1;33m(\u001b[0m\u001b[0ms\u001b[0m\u001b[1;33m)\u001b[0m\u001b[1;33m\u001b[0m\u001b[1;33m\u001b[0m\u001b[0m\n\u001b[0;32m      5\u001b[0m \u001b[0ms\u001b[0m\u001b[1;33m=\u001b[0m\u001b[1;34m\"welcome\"\u001b[0m\u001b[1;33m\u001b[0m\u001b[1;33m\u001b[0m\u001b[0m\n\u001b[1;32m----> 6\u001b[1;33m \u001b[0mfunc\u001b[0m\u001b[1;33m(\u001b[0m\u001b[1;33m)\u001b[0m\u001b[1;33m\u001b[0m\u001b[1;33m\u001b[0m\u001b[0m\n\u001b[0m",
      "\u001b[1;32mC:\\Users\\LAPTOP~1\\AppData\\Local\\Temp/ipykernel_16460/654278549.py\u001b[0m in \u001b[0;36mfunc\u001b[1;34m()\u001b[0m\n\u001b[0;32m      1\u001b[0m \u001b[1;32mdef\u001b[0m \u001b[0mfunc\u001b[0m\u001b[1;33m(\u001b[0m\u001b[1;33m)\u001b[0m\u001b[1;33m:\u001b[0m\u001b[1;33m\u001b[0m\u001b[1;33m\u001b[0m\u001b[0m\n\u001b[1;32m----> 2\u001b[1;33m     \u001b[0mprint\u001b[0m\u001b[1;33m(\u001b[0m\u001b[0ms\u001b[0m\u001b[1;33m)\u001b[0m\u001b[1;33m\u001b[0m\u001b[1;33m\u001b[0m\u001b[0m\n\u001b[0m\u001b[0;32m      3\u001b[0m     \u001b[0ms\u001b[0m\u001b[1;33m=\u001b[0m\u001b[1;34m\"hello\"\u001b[0m\u001b[1;33m\u001b[0m\u001b[1;33m\u001b[0m\u001b[0m\n\u001b[0;32m      4\u001b[0m     \u001b[0mprint\u001b[0m\u001b[1;33m(\u001b[0m\u001b[0ms\u001b[0m\u001b[1;33m)\u001b[0m\u001b[1;33m\u001b[0m\u001b[1;33m\u001b[0m\u001b[0m\n\u001b[0;32m      5\u001b[0m \u001b[0ms\u001b[0m\u001b[1;33m=\u001b[0m\u001b[1;34m\"welcome\"\u001b[0m\u001b[1;33m\u001b[0m\u001b[1;33m\u001b[0m\u001b[0m\n",
      "\u001b[1;31mUnboundLocalError\u001b[0m: local variable 's' referenced before assignment"
     ]
    }
   ],
   "source": [
    "def func():\n",
    "    print(s)\n",
    "    s=\"hello\"\n",
    "    print(s)       \n",
    "s=\"welcome\"\n",
    "func()       #2 variables with same name"
   ]
  },
  {
   "cell_type": "code",
   "execution_count": 182,
   "id": "60841d7a",
   "metadata": {},
   "outputs": [
    {
     "name": "stdout",
     "output_type": "stream",
     "text": [
      "24\n"
     ]
    }
   ],
   "source": [
    "#recursive function: recall its self\n",
    "def fact(n):\n",
    "    if n==1:\n",
    "        return 1    \n",
    "    else:\n",
    "        return(n*fact(n-1))\n",
    "print(fact(4))"
   ]
  },
  {
   "cell_type": "code",
   "execution_count": 183,
   "id": "f8d5f4ed",
   "metadata": {},
   "outputs": [
    {
     "name": "stdout",
     "output_type": "stream",
     "text": [
      "it is f\n",
      "hello\n",
      "it is g \n",
      "hi\n"
     ]
    }
   ],
   "source": [
    "#function in function\n",
    "def f():\n",
    "    def g():\n",
    "        print(\"it is g \")\n",
    "        print(\"hi\")\n",
    "    print(\"it is f\")\n",
    "    print(\"hello\")\n",
    "    g()\n",
    "f()"
   ]
  },
  {
   "cell_type": "code",
   "execution_count": 206,
   "id": "15529b92",
   "metadata": {},
   "outputs": [
    {
     "name": "stdout",
     "output_type": "stream",
     "text": [
      "enter firist num3\n",
      "enter second num4\n",
      "enter sign*\n",
      "12\n"
     ]
    }
   ],
   "source": [
    "x= int(input(\"enter firist num\"))\n",
    "y= int(input(\"enter second num\"))\n",
    "op=input(\"enter sign\")\n",
    "def summ():\n",
    "    z=x+y\n",
    "    print(z)\n",
    "def sub():\n",
    "    z=x-y\n",
    "    print(z)\n",
    "def mult():\n",
    "    z=x*y\n",
    "    print(z)\n",
    "def div():\n",
    "    z=x/y\n",
    "    if y==0:\n",
    "        print(\"undefined\")\n",
    "    else:\n",
    "        print(z)\n",
    "if op==\"+\":\n",
    "    summ()\n",
    "elif op==\"-\":\n",
    "    sub()\n",
    "elif op==\"*\":\n",
    "    mult()\n",
    "elif op==\"/\":\n",
    "    div()"
   ]
  },
  {
   "cell_type": "code",
   "execution_count": null,
   "id": "d9d8a9c9",
   "metadata": {},
   "outputs": [],
   "source": []
  }
 ],
 "metadata": {
  "kernelspec": {
   "display_name": "Python 3 (ipykernel)",
   "language": "python",
   "name": "python3"
  },
  "language_info": {
   "codemirror_mode": {
    "name": "ipython",
    "version": 3
   },
   "file_extension": ".py",
   "mimetype": "text/x-python",
   "name": "python",
   "nbconvert_exporter": "python",
   "pygments_lexer": "ipython3",
   "version": "3.9.7"
  }
 },
 "nbformat": 4,
 "nbformat_minor": 5
}
